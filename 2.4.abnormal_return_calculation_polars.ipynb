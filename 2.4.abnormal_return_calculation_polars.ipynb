{
 "cells": [
  {
   "cell_type": "code",
   "id": "initial_id",
   "metadata": {
    "collapsed": true,
    "ExecuteTime": {
     "end_time": "2025-05-11T23:44:46.437054Z",
     "start_time": "2025-05-11T23:44:45.544219Z"
    }
   },
   "source": [
    "# source code: # https://wrds-www.wharton.upenn.edu/pages/wrds-research/applications/python-replications/programming-python-wrds-event-study/\n",
    "import os\n",
    "import json\n",
    "import wrds\n",
    "import polars as pl\n",
    "import pandas as pd\n",
    "import numpy as np\n",
    "from statsmodels.api import OLS, add_constant\n",
    "import duckdb as db\n",
    "from polars import col\n",
    "from tqdm.notebook import tqdm"
   ],
   "outputs": [],
   "execution_count": 1
  },
  {
   "metadata": {
    "ExecuteTime": {
     "end_time": "2025-05-11T23:44:46.448268Z",
     "start_time": "2025-05-11T23:44:46.438061Z"
    }
   },
   "cell_type": "code",
   "source": [
    "class EventStudy:\n",
    "    def __init__(self, output_path='', wrds_username=''):\n",
    "        self.output_path = output_path or os.path.expanduser('~')\n",
    "        self.wrds_username = wrds_username\n",
    "\n",
    "    def connect(self):\n",
    "        return wrds.Connection(wrds_username=self.wrds_username)\n",
    "\n",
    "    def eventstudy(self,\n",
    "                   data=None,\n",
    "                   model='madj',\n",
    "                   estwin=250,\n",
    "                   gap=10,\n",
    "                   evtwins=-10,\n",
    "                   evtwine=10,\n",
    "                   minval=100,\n",
    "                   output='df'):\n",
    "\n",
    "        estwins = estwin + gap + abs(evtwins)\n",
    "        estwine = gap + abs(evtwins) + 1\n",
    "        evtrang = abs(evtwins) + evtwine + 1\n",
    "        evtwinx = estwins + 1\n",
    "\n",
    "        evts = data or [{\"edate\": \"2012-05-29\", \"cusip\": \"10002\"}]\n",
    "        params = {'estwins': estwins, 'estwine': estwine, 'evtwins': evtwins, 'evtwine': evtwine, 'evtwinx': evtwinx, 'evtdata': json.dumps(evts)}\n",
    "        sql = f\"\"\"\n",
    "        SELECT\n",
    "                a.*,\n",
    "                x.*,\n",
    "                c.date as rdate,\n",
    "                c.ret as ret1,\n",
    "                (f.mktrf+f.rf) as mkt,\n",
    "                f.mktrf,\n",
    "                f.rf,\n",
    "                f.smb,\n",
    "                f.hml,\n",
    "                f.umd,\n",
    "                (1+c.ret)*(coalesce(d.dlret,0.00)+1)-1-(f.mktrf+f.rf) as exret,\n",
    "                (1+c.ret)*(coalesce(d.dlret,0.00)+1)-1 as ret,\n",
    "                case when c.date between a.estwin1 and a.estwin2 then 1 else 0 end as isest,\n",
    "                case when c.date between a.evtwin1 and a.evtwin2 then 1 else 0 end as isevt,\n",
    "                case\n",
    "                  when c.date between a.evtwin1 and a.evtwin2 then (rank() OVER (PARTITION BY x.evtid ORDER BY c.date)-%(evtwinx)s)\n",
    "                  else (rank() OVER (PARTITION BY x.evtid ORDER BY c.date))\n",
    "                end as evttime,\n",
    "                case\n",
    "                  when c.date = a.date then 1\n",
    "                  else 0\n",
    "                end as evtflag\n",
    "        FROM\n",
    "          (\n",
    "            SELECT\n",
    "              date,\n",
    "              lag(date, %(estwins)s ) over (order by date) as estwin1,\n",
    "              lag(date, %(estwine)s )  over (order by date) as estwin2,\n",
    "              lag(date, %(evtwins)s )  over (order by date) as evtwin1,\n",
    "              lead(date, %(evtwine)s )  over (order by date) as evtwin2\n",
    "            FROM crsp_a_stock.dsi\n",
    "          ) as a\n",
    "        JOIN\n",
    "        (select\n",
    "                to_char(x.edate, 'ddMONYYYY') || x.cusip::text as evtid,\n",
    "                x.cusip,\n",
    "                x.edate\n",
    "        from\n",
    "        json_to_recordset('%(evtdata)s') as x(edate date, cusip text)\n",
    "        ) as x\n",
    "          ON a.date=x.edate\n",
    "        JOIN crsp_a_stock.dsf c\n",
    "            ON x.cusip=c.cusip\n",
    "            AND c.date BETWEEN a.estwin1 and a.evtwin2\n",
    "        JOIN ff_all.factors_daily f\n",
    "            ON c.date=f.date\n",
    "        LEFT JOIN crsp_a_stock.dsedelist d\n",
    "            ON x.cusip=d.cusip\n",
    "            AND c.date=d.dlstdt\n",
    "        WHERE f.mktrf is not null\n",
    "        AND c.ret is not null\n",
    "        ORDER BY x.evtid, x.cusip, a.date, c.date\n",
    "        \"\"\" % params\n",
    "        pdf = self.connect().raw_sql(sql)\n",
    "        df = pl.from_pandas(pdf)\n",
    "\n",
    "        df = df.with_columns([\n",
    "            col('edate').cast(pl.Date),\n",
    "            col('rdate').cast(pl.Date)\n",
    "        ])\n",
    "\n",
    "        def process_grp(grp):\n",
    "            grp = grp.sort('rdate')\n",
    "            est = grp.filter(col('isest') == 1)\n",
    "            evt = grp.filter(col('isevt') == 1)\n",
    "\n",
    "            if est.height < minval or evt.height != evtrang or evt.filter(col('evtflag') == 1).height < 1:\n",
    "                return pl.DataFrame()\n",
    "\n",
    "            alpha = 0.0\n",
    "            rmse = 1.0\n",
    "\n",
    "            if model == 'madj':\n",
    "                alpha = est.select(col('exret')).to_numpy().mean()\n",
    "                rmse = est.select(col('exret')).to_numpy().std(ddof=1)\n",
    "                evt = evt.with_columns([\n",
    "                    pl.lit(alpha).alias('INTERCEPT'),\n",
    "                    pl.lit(rmse).alias('RMSE'),\n",
    "                    pl.lit(alpha).alias('alpha'),\n",
    "                    col('exret').alias('abret'),\n",
    "                    col('mkt').alias('expret')\n",
    "                ])\n",
    "            else:\n",
    "                est_pd = est.to_pandas()\n",
    "                y = est_pd['ret']\n",
    "                if model == 'm':\n",
    "                    X = add_constant(est_pd[['mktrf']])\n",
    "                elif model == 'ff':\n",
    "                    X = add_constant(est_pd[['mktrf','smb','hml']])\n",
    "                elif model == 'ffm':\n",
    "                    X = add_constant(est_pd[['mktrf','smb','hml','umd']])\n",
    "                res = OLS(y, X).fit()\n",
    "                params = res.params.to_dict()\n",
    "                alpha = params['const']\n",
    "                betas = {k: v for k, v in params.items() if k != 'const'}\n",
    "                rmse = np.sqrt(res.mse_resid)\n",
    "\n",
    "                expr = pl.lit(alpha)\n",
    "                for f_name, b_val in betas.items():\n",
    "                    expr = expr + pl.lit(b_val) * col(f_name)\n",
    "                evt = evt.with_columns([\n",
    "                    pl.lit(alpha).alias('INTERCEPT'),\n",
    "                    pl.lit(rmse).alias('RMSE'),\n",
    "                    pl.lit(alpha).alias('alpha'),\n",
    "                    expr.alias('expret'),\n",
    "                    (col('ret') - expr).alias('abret')\n",
    "                ])\n",
    "\n",
    "            def compute_cret(ret_series):\n",
    "                result = []\n",
    "                acc = 0.0\n",
    "                for r in ret_series:\n",
    "                    tmp = (r * acc) + (r + acc)\n",
    "                    acc = tmp\n",
    "                    result.append(tmp)\n",
    "                return pl.Series(result)\n",
    "\n",
    "            def compute_cexpret(expret_series):\n",
    "                result = []\n",
    "                acc = 0.0\n",
    "                for r in expret_series:\n",
    "                    tmp = (r * acc) + (r + acc)\n",
    "                    acc = tmp\n",
    "                    result.append(tmp)\n",
    "                return pl.Series(result)\n",
    "\n",
    "            evt = evt.sort('date')\n",
    "            evt = evt.with_columns([\n",
    "                compute_cret(evt['ret']).alias('cret'),\n",
    "                compute_cexpret(evt['expret']).alias('cexpret'),\n",
    "                col('abret').cum_sum().alias('car'),\n",
    "                pl.lit((est.height - 2) / (est.height - 4)).alias('pat_scale')\n",
    "            ])\n",
    "\n",
    "            evt = evt.with_columns([\n",
    "                (col('abret') / rmse).cum_sum().alias('sar'),\n",
    "                (col('cret') - col('cexpret')).alias('bhar'),\n",
    "                (col('car') / np.sqrt(evtrang * rmse**2)).cum_sum().alias('scar')\n",
    "            ])\n",
    "            return evt\n",
    "\n",
    "        keys = df.select(['cusip','edate']).unique().to_pandas().to_dict(orient='records')\n",
    "        result_list = []\n",
    "        for evt in tqdm(keys):\n",
    "            grp = df.filter((col('cusip')==evt['cusip']) & (col('edate')==evt['edate']))\n",
    "            out = process_grp(grp)\n",
    "            if out.height > 0:\n",
    "                result_list.append(out)\n",
    "        processed = pl.concat(result_list) if result_list else pl.DataFrame()\n",
    "        df_evt = processed.drop_nulls().to_pandas()\n",
    "\n",
    "        df_stats = db.query(f\"\"\"\n",
    "            SELECT evttime,\n",
    "                   AVG(car) AS car_m,\n",
    "                   AVG(ret) AS ret_m,\n",
    "                   AVG(abret) AS abret_m,\n",
    "                   STDDEV_SAMP(abret) AS abret_v,\n",
    "                   AVG(sar) AS sar_m,\n",
    "                   STDDEV_SAMP(sar) AS sar_v,\n",
    "                   AVG(scar) AS scar_m,\n",
    "                   STDDEV_SAMP(scar) AS scar_v,\n",
    "                   AVG(bhar) AS bhar_m,\n",
    "                   COUNT(*) AS n,\n",
    "                   AVG(cret) AS cret_edate_m,\n",
    "                   AVG(car) AS car_edate_m,\n",
    "                   AVG(bhar) AS bhar_edate_m\n",
    "            FROM df_evt\n",
    "            GROUP BY evttime\n",
    "            ORDER BY evttime\n",
    "        \"\"\"\n",
    "        ).df()\n",
    "\n",
    "        df_window = df_evt[['cusip','edate','rdate','evttime','ret','abret']].sort_values(['cusip','evttime'])\n",
    "        max_t = df_evt['evttime'].max()\n",
    "        df_date = df_evt[df_evt['evttime'] == max_t][['cusip','edate','cret','car','bhar']]\n",
    "        df_date = df_date.sort_values(['cusip','edate'])\n",
    "\n",
    "        if output == 'df':\n",
    "            return {'event_stats': df_stats,\n",
    "                    'event_window': df_window,\n",
    "                    'event_date': df_date}"
   ],
   "id": "ca1f7672a0540d6",
   "outputs": [],
   "execution_count": 2
  },
  {
   "metadata": {
    "ExecuteTime": {
     "end_time": "2025-05-11T23:44:46.509631Z",
     "start_time": "2025-05-11T23:44:46.485063Z"
    }
   },
   "cell_type": "code",
   "source": [
    "eventstudy = EventStudy(output_path='../data/abnormal_return/')\n",
    "events = pd.read_csv('../data/abnormal_return/wrds_input_event_2003_2020_05112025.csv').to_dict(orient='records')"
   ],
   "id": "c2d69ecd30e09c49",
   "outputs": [],
   "execution_count": 3
  },
  {
   "metadata": {
    "jupyter": {
     "is_executing": true
    },
    "ExecuteTime": {
     "start_time": "2025-05-11T23:44:46.513260Z"
    }
   },
   "cell_type": "code",
   "source": [
    "results = []\n",
    "windows = [\n",
    "    (0, 1),\n",
    "    (0, 2),\n",
    "    (0, 3),\n",
    "    (1, 63),\n",
    "    (2, 63),\n",
    "    (3, 63),\n",
    "    (4, 63),\n",
    "    (2, 11),\n",
    "    (2, 21),\n",
    "    (2, 31),\n",
    "    (3, 11),\n",
    "    (3, 21),\n",
    "    (3, 31),\n",
    "    (4, 11),\n",
    "    (4, 21),\n",
    "    (4, 31),\n",
    "    (12, 21),\n",
    "    (22, 31),\n",
    "    (0, 5),\n",
    "    (6, 10),\n",
    "    (11, 20),\n",
    "    (21, 30),\n",
    "    (31, 63),\n",
    "]\n",
    "\n",
    "for w in windows:\n",
    "    print(w)\n",
    "    res = eventstudy.eventstudy(\n",
    "        data=events,\n",
    "        model='madj',\n",
    "        estwin=250,\n",
    "        gap=10,\n",
    "        evtwins=w[0],\n",
    "        evtwine=w[1],\n",
    "        minval=100,\n",
    "        output='df'\n",
    "    )\n",
    "    results.append({'window': w, 'df': res.get('event_date')})"
   ],
   "id": "4132b617fbb144dd",
   "outputs": [
    {
     "name": "stdout",
     "output_type": "stream",
     "text": [
      "(0, 1)\n",
      "Loading library list...\n",
      "Done\n"
     ]
    },
    {
     "data": {
      "text/plain": [
       "  0%|          | 0/12566 [00:00<?, ?it/s]"
      ],
      "application/vnd.jupyter.widget-view+json": {
       "version_major": 2,
       "version_minor": 0,
       "model_id": "45f1abcd89914ab7b1bef52dbe1e9174"
      }
     },
     "metadata": {},
     "output_type": "display_data"
    },
    {
     "name": "stdout",
     "output_type": "stream",
     "text": [
      "(0, 2)\n",
      "Loading library list...\n",
      "Done\n"
     ]
    },
    {
     "data": {
      "text/plain": [
       "  0%|          | 0/12568 [00:00<?, ?it/s]"
      ],
      "application/vnd.jupyter.widget-view+json": {
       "version_major": 2,
       "version_minor": 0,
       "model_id": "1f9abd78e7444d158b51e9ee21191e7c"
      }
     },
     "metadata": {},
     "output_type": "display_data"
    },
    {
     "name": "stdout",
     "output_type": "stream",
     "text": [
      "(0, 3)\n",
      "Loading library list...\n",
      "Done\n"
     ]
    },
    {
     "data": {
      "text/plain": [
       "  0%|          | 0/12569 [00:00<?, ?it/s]"
      ],
      "application/vnd.jupyter.widget-view+json": {
       "version_major": 2,
       "version_minor": 0,
       "model_id": "cdde7757c34d4009b3a4dbf47d2aa0ef"
      }
     },
     "metadata": {},
     "output_type": "display_data"
    },
    {
     "name": "stdout",
     "output_type": "stream",
     "text": [
      "(1, 63)\n",
      "Loading library list...\n",
      "Done\n"
     ]
    },
    {
     "data": {
      "text/plain": [
       "  0%|          | 0/12602 [00:00<?, ?it/s]"
      ],
      "application/vnd.jupyter.widget-view+json": {
       "version_major": 2,
       "version_minor": 0,
       "model_id": "9874ad5c04f94df8bac22219b78609c8"
      }
     },
     "metadata": {},
     "output_type": "display_data"
    },
    {
     "name": "stdout",
     "output_type": "stream",
     "text": [
      "(2, 63)\n",
      "Loading library list...\n",
      "Done\n"
     ]
    },
    {
     "data": {
      "text/plain": [
       "  0%|          | 0/12602 [00:00<?, ?it/s]"
      ],
      "application/vnd.jupyter.widget-view+json": {
       "version_major": 2,
       "version_minor": 0,
       "model_id": "8fa92fce476e4b348f2b031ac15d6ce6"
      }
     },
     "metadata": {},
     "output_type": "display_data"
    },
    {
     "name": "stdout",
     "output_type": "stream",
     "text": [
      "(3, 63)\n",
      "Loading library list...\n",
      "Done\n"
     ]
    },
    {
     "data": {
      "text/plain": [
       "  0%|          | 0/12602 [00:00<?, ?it/s]"
      ],
      "application/vnd.jupyter.widget-view+json": {
       "version_major": 2,
       "version_minor": 0,
       "model_id": "3952c1a6e3bd43dd97f3d7ae60278985"
      }
     },
     "metadata": {},
     "output_type": "display_data"
    },
    {
     "name": "stdout",
     "output_type": "stream",
     "text": [
      "(4, 63)\n",
      "Loading library list...\n",
      "Done\n"
     ]
    },
    {
     "data": {
      "text/plain": [
       "  0%|          | 0/12602 [00:00<?, ?it/s]"
      ],
      "application/vnd.jupyter.widget-view+json": {
       "version_major": 2,
       "version_minor": 0,
       "model_id": "2a22a812ab29403a98505d90f7e0ee28"
      }
     },
     "metadata": {},
     "output_type": "display_data"
    },
    {
     "name": "stdout",
     "output_type": "stream",
     "text": [
      "(2, 11)\n",
      "Loading library list...\n",
      "Done\n"
     ]
    }
   ],
   "execution_count": null
  }
 ],
 "metadata": {
  "kernelspec": {
   "display_name": "Python 3",
   "language": "python",
   "name": "python3"
  },
  "language_info": {
   "codemirror_mode": {
    "name": "ipython",
    "version": 2
   },
   "file_extension": ".py",
   "mimetype": "text/x-python",
   "name": "python",
   "nbconvert_exporter": "python",
   "pygments_lexer": "ipython2",
   "version": "2.7.6"
  }
 },
 "nbformat": 4,
 "nbformat_minor": 5
}
